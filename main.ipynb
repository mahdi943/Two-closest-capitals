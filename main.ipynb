{
  "nbformat": 4,
  "nbformat_minor": 0,
  "metadata": {
    "colab": {
      "name": "Mahdi_Alipour_Question1.ipynb",
      "provenance": [],
      "collapsed_sections": [],
      "include_colab_link": true
    },
    "kernelspec": {
      "name": "python3",
      "display_name": "Python 3"
    },
    "language_info": {
      "name": "python"
    }
  },
  "cells": [
    {
      "cell_type": "markdown",
      "metadata": {
        "id": "view-in-github",
        "colab_type": "text"
      },
      "source": [
        "<a href=\"https://colab.research.google.com/github/mahdi943/colsest-capitals/blob/master/main.ipynb\" target=\"_parent\"><img src=\"https://colab.research.google.com/assets/colab-badge.svg\" alt=\"Open In Colab\"/></a>"
      ]
    },
    {
      "cell_type": "markdown",
      "source": [
        "\n",
        "###Using Capitals.txt dataset;\n",
        "Find two closest capital cities and the distance between them."
      ],
      "metadata": {
        "id": "bT6iO9eJBaMN"
      }
    },
    {
      "cell_type": "code",
      "execution_count": null,
      "metadata": {
        "colab": {
          "base_uri": "https://localhost:8080/"
        },
        "id": "kZoOTuV-BL5V",
        "outputId": "9ad66bb9-3a00-49c3-e4dc-e851e222bae8"
      },
      "outputs": [
        {
          "output_type": "stream",
          "name": "stdout",
          "text": [
            "Get:1 https://cloud.r-project.org/bin/linux/ubuntu bionic-cran40/ InRelease [3,626 B]\n",
            "Ign:2 https://developer.download.nvidia.com/compute/cuda/repos/ubuntu1804/x86_64  InRelease\n",
            "Hit:3 http://archive.ubuntu.com/ubuntu bionic InRelease\n",
            "Get:4 http://security.ubuntu.com/ubuntu bionic-security InRelease [88.7 kB]\n",
            "Ign:5 https://developer.download.nvidia.com/compute/machine-learning/repos/ubuntu1804/x86_64  InRelease\n",
            "Get:6 https://cloud.r-project.org/bin/linux/ubuntu bionic-cran40/ Packages [80.8 kB]\n",
            "Get:7 https://developer.download.nvidia.com/compute/cuda/repos/ubuntu1804/x86_64  Release [696 B]\n",
            "Get:8 http://ppa.launchpad.net/c2d4u.team/c2d4u4.0+/ubuntu bionic InRelease [15.9 kB]\n",
            "Hit:9 https://developer.download.nvidia.com/compute/machine-learning/repos/ubuntu1804/x86_64  Release\n",
            "Get:10 https://developer.download.nvidia.com/compute/cuda/repos/ubuntu1804/x86_64  Release.gpg [836 B]\n",
            "Get:11 http://archive.ubuntu.com/ubuntu bionic-updates InRelease [88.7 kB]\n",
            "Hit:13 http://ppa.launchpad.net/cran/libgit2/ubuntu bionic InRelease\n",
            "Get:14 https://developer.download.nvidia.com/compute/cuda/repos/ubuntu1804/x86_64  Packages [950 kB]\n",
            "Get:15 http://archive.ubuntu.com/ubuntu bionic-backports InRelease [74.6 kB]\n",
            "Get:16 http://ppa.launchpad.net/deadsnakes/ppa/ubuntu bionic InRelease [15.9 kB]\n",
            "Get:17 http://security.ubuntu.com/ubuntu bionic-security/restricted amd64 Packages [878 kB]\n",
            "Get:18 http://archive.ubuntu.com/ubuntu bionic-updates/multiverse amd64 Packages [29.8 kB]\n",
            "Get:19 http://archive.ubuntu.com/ubuntu bionic-updates/restricted amd64 Packages [913 kB]\n",
            "Get:20 http://ppa.launchpad.net/graphics-drivers/ppa/ubuntu bionic InRelease [21.3 kB]\n",
            "Get:21 http://security.ubuntu.com/ubuntu bionic-security/universe amd64 Packages [1,486 kB]\n",
            "Get:22 http://archive.ubuntu.com/ubuntu bionic-updates/universe amd64 Packages [2,264 kB]\n",
            "Get:23 http://security.ubuntu.com/ubuntu bionic-security/main amd64 Packages [2,678 kB]\n",
            "Get:24 http://ppa.launchpad.net/c2d4u.team/c2d4u4.0+/ubuntu bionic/main Sources [1,830 kB]\n",
            "Get:25 http://archive.ubuntu.com/ubuntu bionic-updates/main amd64 Packages [3,123 kB]\n",
            "Get:26 http://archive.ubuntu.com/ubuntu bionic-backports/main amd64 Packages [12.2 kB]\n",
            "Get:27 http://archive.ubuntu.com/ubuntu bionic-backports/universe amd64 Packages [12.9 kB]\n",
            "Get:28 http://ppa.launchpad.net/c2d4u.team/c2d4u4.0+/ubuntu bionic/main amd64 Packages [937 kB]\n",
            "Get:29 http://ppa.launchpad.net/deadsnakes/ppa/ubuntu bionic/main amd64 Packages [45.3 kB]\n",
            "Get:30 http://ppa.launchpad.net/graphics-drivers/ppa/ubuntu bionic/main amd64 Packages [44.3 kB]\n",
            "Fetched 15.6 MB in 8s (1,883 kB/s)\n",
            "Reading package lists... Done\n",
            "update-alternatives: using /usr/lib/jvm/java-8-openjdk-amd64/jre/bin/java to provide /usr/bin/java (java) in manual mode\n",
            "openjdk version \"1.8.0_312\"\n",
            "OpenJDK Runtime Environment (build 1.8.0_312-8u312-b07-0ubuntu1~18.04-b07)\n",
            "OpenJDK 64-Bit Server VM (build 25.312-b07, mixed mode)\n",
            "Collecting pyspark\n",
            "  Downloading pyspark-3.2.1.tar.gz (281.4 MB)\n",
            "\u001b[K     |████████████████████████████████| 281.4 MB 33 kB/s \n",
            "\u001b[?25hCollecting py4j==0.10.9.3\n",
            "  Downloading py4j-0.10.9.3-py2.py3-none-any.whl (198 kB)\n",
            "\u001b[K     |████████████████████████████████| 198 kB 44.5 MB/s \n",
            "\u001b[?25hBuilding wheels for collected packages: pyspark\n",
            "  Building wheel for pyspark (setup.py) ... \u001b[?25l\u001b[?25hdone\n",
            "  Created wheel for pyspark: filename=pyspark-3.2.1-py2.py3-none-any.whl size=281853642 sha256=0dc118a210bfaa932143888a0dd8b79c96ce5223b9e77bb06ee2a9a35ceb2120\n",
            "  Stored in directory: /root/.cache/pip/wheels/9f/f5/07/7cd8017084dce4e93e84e92efd1e1d5334db05f2e83bcef74f\n",
            "Successfully built pyspark\n",
            "Installing collected packages: py4j, pyspark\n",
            "Successfully installed py4j-0.10.9.3 pyspark-3.2.1\n"
          ]
        }
      ],
      "source": [
        "!apt-get update\n",
        "!apt-get install openjdk-8-jdk-headless -qq > /dev/null\n",
        "import os\n",
        "os.environ[\"JAVA_HOME\"] = \"/usr/lib/jvm/java-8-openjdk-amd64\"\n",
        "!update-alternatives --set java /usr/lib/jvm/java-8-openjdk-amd64/jre/bin/java\n",
        "!java -version\n",
        "!pip install pyspark"
      ]
    },
    {
      "cell_type": "markdown",
      "source": [
        "In the first step, we need removing double space characters as well as changing the ',' character in the float numbers to '.' in Capitals.txt"
      ],
      "metadata": {
        "id": "KX95nJaNB-5t"
      }
    },
    {
      "cell_type": "code",
      "source": [
        "myFile = open('/content/drive/MyDrive/Colab-Notebooks/Big-data/HW1/Dataset/Cc.txt', 'w')\n",
        "with open('/content/drive/MyDrive/Colab-Notebooks/Big-data/HW1/Dataset/Capitals.txt', 'r') as f:\n",
        "  for line in f:\n",
        "    st = line.replace(' ', '').replace(',','.')\n",
        "    myFile.write(st)\n",
        "f.close()\n",
        "myFile.close()"
      ],
      "metadata": {
        "id": "A25hXuxzDI4S"
      },
      "execution_count": null,
      "outputs": []
    },
    {
      "cell_type": "markdown",
      "source": [
        "Since  \"Jerusalem\" and \"EastJerusalem\" are same,\n",
        "also \"Rome\" and \"Vatican\" are both in Italy and \"Rome\" is the capital I filtered them.\n",
        "\n"
      ],
      "metadata": {
        "id": "-ovfkOBlTGrs"
      }
    },
    {
      "cell_type": "code",
      "source": [
        "import math\n",
        "from pyspark import SparkContext\n",
        "sc = SparkContext.getOrCreate()\n",
        "\n",
        "capRDD = sc.textFile(\"/content/drive/MyDrive/Colab-Notebooks/Big-data/HW1/Dataset/Cc.txt\")\n",
        "def saveCoord(line):\n",
        "    rec = line.split(\"\\t\")\n",
        "    name = rec[2]\n",
        "    lat = float(rec[3])\n",
        "    lng = float(rec[4])\n",
        "    return(name,lat,lng)\n",
        "    \n",
        "capRDD1 = capRDD.map(lambda x : saveCoord(x) )\n",
        "capRDD2 = capRDD.map(lambda x : saveCoord(x) )\n",
        "\n",
        "capRDD3 = capRDD1.cartesian(capRDD2)\n",
        "capRDD3 = capRDD3.map(lambda x : x[0]+x[1])\n",
        "\n",
        "\n",
        "\n",
        "def distance(city1, city2, lat1, lon1, lat2, lon2):\n",
        "  if city1 != city2:\n",
        "    radius = 6371  # km\n",
        "    lat1 = float(lat1)\n",
        "    lon1 = float(lon1)\n",
        "    lat2 = float(lat2)\n",
        "    lon2 = float(lon2)\n",
        "    dlat = math.radians(lat2 - lat1)\n",
        "    dlon = math.radians(lon2 - lon1)\n",
        "    a = (math.sin(dlat / 2) * math.sin(dlat / 2) +\n",
        "      math.cos(math.radians(lat1)) *\n",
        "      math.cos(math.radians(lat2)) * math.sin(dlon / 2) *\n",
        "      math.sin(dlon / 2))\n",
        "    c = 2 * math.atan2(math.sqrt(a), math.sqrt(1 - a))\n",
        "    d = radius * c\n",
        "    return (city1,city2,d)\n",
        "\n",
        "capRDD3 = capRDD3.map(lambda x : distance(x[0],x[3],x[1],x[2],x[4],x[5]))\n",
        "#print(capRDD3.take(10))\n",
        "\n",
        "# since we applide cartesian, we should apply filter for both \n",
        "capRDD3  = capRDD3.filter(lambda x: x is not None)\n",
        "capRDD3 = capRDD3.filter(lambda x: x[1] != \"Vatican\" and  x[2] != \"Rome\")\n",
        "capRDD3 = capRDD3.filter(lambda x: x[1] != \"Rome\" and  x[2] != \"Vatican\")\n",
        "capRDD3 = capRDD3.filter(lambda x: x[1] != \"EastJerusalem\" and  x[2] != \"Jerusalem\")\n",
        "capRDD3 = capRDD3.filter(lambda x: x[1] != \"Jerusalem\" and  x[2] != \"EastJerusalem\")\n",
        "\n",
        "capRDD3 = capRDD3.sortBy(lambda x : x[2],ascending=True)\n",
        "\n",
        "print(\"Two closest capital cities in the world:\",capRDD3.take(1))\n"
      ],
      "metadata": {
        "colab": {
          "base_uri": "https://localhost:8080/"
        },
        "id": "cDZ2i-7cTtl-",
        "outputId": "04e07015-0506-4028-f26f-495927f30da3"
      },
      "execution_count": null,
      "outputs": [
        {
          "output_type": "stream",
          "name": "stdout",
          "text": [
            "Two closest capital cities in the world: [('Kinshasa', 'Brazzaville', 6.478907732623775)]\n"
          ]
        }
      ]
    },
    {
      "cell_type": "markdown",
      "source": [
        "Two closest capital cities in the world:\n",
        "\"Kinshasa\" and \"Brazzaville\" \n",
        "\n",
        "Distance:\n",
        "6.478907732623725 Km"
      ],
      "metadata": {
        "id": "j4NoFXbeUy5p"
      }
    }
  ]
}